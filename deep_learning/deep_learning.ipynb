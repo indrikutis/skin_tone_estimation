{
 "cells": [
  {
   "cell_type": "markdown",
   "metadata": {},
   "source": [
    "# Deep learning based skin tone estimation"
   ]
  },
  {
   "cell_type": "code",
   "execution_count": null,
   "metadata": {},
   "outputs": [],
   "source": [
    "import sys\n",
    "import os\n",
    "sys.path.append('../')\n",
    "\n",
    "\n",
    "from utils import deep_learning_utils\n",
    "import pandas as pd\n",
    "\n",
    "\n",
    "%load_ext autoreload\n",
    "%autoreload 2"
   ]
  },
  {
   "cell_type": "code",
   "execution_count": 2,
   "metadata": {},
   "outputs": [],
   "source": [
    "save_resuts_folder = 'results/results_v3.12'\n",
    "\n",
    "if not os.path.exists(save_resuts_folder):\n",
    "    os.makedirs(save_resuts_folder)"
   ]
  },
  {
   "cell_type": "code",
   "execution_count": 7,
   "metadata": {},
   "outputs": [],
   "source": [
    "# Data files\n",
    "\n",
    "CHROMA_FIT_data = \"../multiclass_classification/training_data/v2/CHROMA-FIT_data.json\"\n",
    "CHROMA_FIT_CSEC_data = \"../multiclass_classification/training_data/v2/CHROMA-FIT_CSEC_data.json\"\n",
    "CHROMA_FIT_exposure_color_correction_data = \"../multiclass_classification/training_data/v2/CHROMA-FIT_exposure_color_correction_data.json\"\n",
    "\n",
    "MST_data = \"../multiclass_classification/training_data/v2/MST_data.json\"\n",
    "MST_CSEC_data = \"../multiclass_classification/training_data/v2/MST_CSEC_data.json\"\n",
    "MST_exposure_color_correction_data = \"../multiclass_classification/training_data/v2/MST_exposure_color_correction_data.json\"\n",
    "\n",
    "nr_of_test_images = 64"
   ]
  },
  {
   "cell_type": "code",
   "execution_count": null,
   "metadata": {},
   "outputs": [],
   "source": [
    "# Generate experiment data\n",
    "\n",
    "all_data = {\n",
    "\n",
    "    # splits\n",
    "    \"CHROMA_FIT_data\": deep_learning_utils.prepare_data_with_split(CHROMA_FIT_data),\n",
    "    \"CHROMA_FIT_CSEC_data\": deep_learning_utils.prepare_data_with_split(CHROMA_FIT_CSEC_data),\n",
    "    \"CHROMA_FIT_exposure_color_correction_data\": deep_learning_utils.prepare_data_with_split(CHROMA_FIT_exposure_color_correction_data),\n",
    "\n",
    "    # original\n",
    "    \"CHROMA_FIT_data_original\": deep_learning_utils.prepare_data_two_sources(CHROMA_FIT_data, CHROMA_FIT_data),\n",
    "    \"CHROMA_FIT_CSEC_data_original\": deep_learning_utils.prepare_data_two_sources(CHROMA_FIT_CSEC_data, CHROMA_FIT_data),\n",
    "    \"CHROMA_FIT_exposure_color_correction_data_original\": deep_learning_utils.prepare_data_two_sources(CHROMA_FIT_exposure_color_correction_data, CHROMA_FIT_data),\n",
    "\n",
    "    # MST original\n",
    "    \"CHROMA_FIT_data_MST_original\": deep_learning_utils.prepare_data_two_sources(CHROMA_FIT_data, MST_data),\n",
    "    \"CHROMA_FIT_CSEC_data_MST_original\": deep_learning_utils.prepare_data_two_sources(CHROMA_FIT_CSEC_data, MST_data),\n",
    "    \"CHROMA_FIT_exposure_color_correction_data_MST_original\": deep_learning_utils.prepare_data_two_sources(CHROMA_FIT_exposure_color_correction_data, MST_data),\n",
    "\n",
    "    # MST splits\n",
    "    \"CHROMA_FIT_data_MST\": deep_learning_utils.prepare_data_two_sources_MST_synthetic(CHROMA_FIT_data, MST_data),\n",
    "    \"CHROMA_FIT_CSEC_data_MST\": deep_learning_utils.prepare_data_two_sources(CHROMA_FIT_CSEC_data, MST_CSEC_data),\n",
    "    \"CHROMA_FIT_exposure_color_correction_data_MST\": deep_learning_utils.prepare_data_two_sources(CHROMA_FIT_exposure_color_correction_data, MST_exposure_color_correction_data),\n",
    "\n",
    "}\n"
   ]
  },
  {
   "cell_type": "markdown",
   "metadata": {},
   "source": [
    "# Run deep learning model experiments\n",
    "\n",
    "Saves the outputs to the directory"
   ]
  },
  {
   "cell_type": "code",
   "execution_count": null,
   "metadata": {},
   "outputs": [],
   "source": [
    "for experiment in all_data:\n",
    "\n",
    "    print(experiment)\n",
    "\n",
    "    output_file = f\"{save_resuts_folder}/{experiment}.txt\"\n",
    "\n",
    "    X_train, X_val, X_test, y_train, y_val, y_test, num_classes = all_data[experiment]\n",
    "\n",
    "    model, history = deep_learning_utils.model_training(X_train, X_val, X_test, y_train, y_val, y_test, num_classes, experiment, output_file)\n",
    "\n",
    "    deep_learning_utils.plot_training_history(experiment, history, save_resuts_folder)\n",
    "\n",
    "    "
   ]
  }
 ],
 "metadata": {
  "kernelspec": {
   "display_name": "Python 3",
   "language": "python",
   "name": "python3"
  },
  "language_info": {
   "codemirror_mode": {
    "name": "ipython",
    "version": 3
   },
   "file_extension": ".py",
   "mimetype": "text/x-python",
   "name": "python",
   "nbconvert_exporter": "python",
   "pygments_lexer": "ipython3",
   "version": "3.10.15"
  }
 },
 "nbformat": 4,
 "nbformat_minor": 2
}
