{
 "cells": [
  {
   "cell_type": "markdown",
   "metadata": {},
   "source": [
    "# Multiclass classification"
   ]
  },
  {
   "cell_type": "code",
   "execution_count": 160,
   "metadata": {},
   "outputs": [
    {
     "name": "stdout",
     "output_type": "stream",
     "text": [
      "The autoreload extension is already loaded. To reload it, use:\n",
      "  %reload_ext autoreload\n"
     ]
    }
   ],
   "source": [
    "import sys\n",
    "import os\n",
    "import pandas as pd\n",
    "sys.path.append('../')\n",
    "import json\n",
    "import random\n",
    "\n",
    "from utils import multiclass_classification_utils\n",
    "\n",
    "import pandas as pd\n",
    "from sklearn.model_selection import train_test_split\n",
    "from sklearn.ensemble import RandomForestClassifier\n",
    "from sklearn.metrics import classification_report, accuracy_score\n",
    "from sklearn.preprocessing import StandardScaler\n",
    "from sklearn.impute import SimpleImputer\n",
    "from sklearn.linear_model import LogisticRegression\n",
    "from sklearn.svm import SVC\n",
    "\n",
    "\n",
    "%load_ext autoreload\n",
    "%autoreload 2"
   ]
  },
  {
   "cell_type": "code",
   "execution_count": 161,
   "metadata": {},
   "outputs": [
    {
     "name": "stdout",
     "output_type": "stream",
     "text": [
      "64\n",
      "254 64\n"
     ]
    }
   ],
   "source": [
    "# Read json file\n",
    "\n",
    "training_data_path = \"training_data/CHROMA-FIT_data.json\"\n",
    "testing_data_path = \"training_data/CHROMA-FIT_data.json\"\n",
    "\n",
    "output_file = \"results/CHOMA-FIT.txt\"\n",
    "\n",
    "#------------------------------------------------------------------------------\n",
    "\n",
    "with open(training_data_path) as f:\n",
    "    training_data = json.load(f)\n",
    "\n",
    "with open(testing_data_path) as f:\n",
    "    testing_data = json.load(f)\n",
    "\n",
    "nr_of_test_images = 64\n",
    "\n",
    "testing_paths = []\n",
    "for subject, images in testing_data.items():\n",
    "    for image_name, image_data in images.items():\n",
    "        if image_name != \"MST_value\":  # Skip the MST_value entry\n",
    "            testing_paths.append(f\"{subject}/{image_name}\")\n",
    "\n",
    "random.seed(42)  # Ensure reproducibility\n",
    "sampled_testing_paths = random.sample(testing_paths, nr_of_test_images)\n",
    "\n",
    "print(len(sampled_testing_paths))\n",
    "\n",
    "# Create a set for fast lookup\n",
    "sampled_testing_paths_set = set(sampled_testing_paths)\n",
    "\n",
    "filtered_training_data = multiclass_classification_utils.remove_testing_images_from_training(training_data, sampled_testing_paths_set)\n",
    "filtered_testing_data = multiclass_classification_utils.filter_testing_data(testing_data, sampled_testing_paths_set)\n",
    "\n",
    "X_train, y_train = multiclass_classification_utils.preprocess_data(filtered_training_data)\n",
    "X_test, y_test = multiclass_classification_utils.preprocess_data(filtered_testing_data)\n",
    "\n",
    "print(len(X_train), len(X_test))\n",
    "\n",
    "#------------------------------------------------------------------------------\n",
    "# with open(training_data_path) as f:\n",
    "#     training_data = json.load(f)\n",
    "\n",
    "# with open(testing_data_path) as f:\n",
    "#     testing_data = json.load(f)\n",
    "\n",
    "# training data\n",
    "# X_train, y_train = multiclass_classification_utils.preprocess_data(training_data)\n",
    "\n",
    "# # testing data\n",
    "# X_test, y_test = multiclass_classification_utils.preprocess_data(testing_data)\n",
    "\n",
    "#------------------------------------------------------------------------------\n",
    "\n",
    "# X_train, X_test, y_train, y_test = train_test_split(X_train, y_train, test_size=0.2, random_state=42)\n",
    "\n",
    "#------------------------------------------------------------------------------\n",
    "\n",
    "# Impute missing values\n",
    "imputer = SimpleImputer(strategy='mean')\n",
    "X_train = imputer.fit_transform(X_train)\n",
    "X_test = imputer.transform(X_test)\n",
    "\n",
    "# Normalize features\n",
    "scaler = StandardScaler()\n",
    "X_train = scaler.fit_transform(X_train)\n",
    "X_test = scaler.transform(X_test)\n"
   ]
  },
  {
   "cell_type": "code",
   "execution_count": 162,
   "metadata": {},
   "outputs": [
    {
     "name": "stderr",
     "output_type": "stream",
     "text": [
      "/home/dasec-notebook/Thesis/skin_tone_estimation/.conda/lib/python3.10/site-packages/sklearn/linear_model/_logistic.py:1256: FutureWarning: 'multi_class' was deprecated in version 1.5 and will be removed in 1.7. Use OneVsRestClassifier(LogisticRegression(..)) instead. Leave it to its default value to avoid this warning.\n",
      "  warnings.warn(\n"
     ]
    }
   ],
   "source": [
    "\n",
    "# Train-test split\n",
    "\n",
    "# Train a Random Forest classifier\n",
    "clf_LogisticRegression = LogisticRegression(multi_class='ovr', random_state=42)\n",
    "clf_LogisticRegression.fit(X_train, y_train)\n",
    "y_pred_clf_LogisticRegression = clf_LogisticRegression.predict(X_test)\n",
    "\n",
    "clf_RandomForestClassifier = RandomForestClassifier(random_state=42)\n",
    "clf_RandomForestClassifier.fit(X_train, y_train)\n",
    "y_pred_RandomForestClassifier = clf_RandomForestClassifier.predict(X_test)\n",
    "\n",
    "clf_SVC = SVC(kernel='rbf', random_state=42)  # You can use 'linear', 'poly', or 'rbf' as kernel types\n",
    "clf_SVC.fit(X_train, y_train)\n",
    "y_pred_SVC = clf_SVC.predict(X_test)\n",
    "\n",
    "\n"
   ]
  },
  {
   "cell_type": "code",
   "execution_count": 163,
   "metadata": {},
   "outputs": [
    {
     "name": "stdout",
     "output_type": "stream",
     "text": [
      "Results for Logistic Regression saved to results/aaaa.txt\n",
      "Results for Random Forest Classifier saved to results/aaaa.txt\n",
      "Results for Support Vector Classifier (SVC) saved to results/aaaa.txt\n"
     ]
    },
    {
     "name": "stderr",
     "output_type": "stream",
     "text": [
      "/home/dasec-notebook/Thesis/skin_tone_estimation/.conda/lib/python3.10/site-packages/sklearn/metrics/_classification.py:1531: UndefinedMetricWarning: Precision is ill-defined and being set to 0.0 in labels with no predicted samples. Use `zero_division` parameter to control this behavior.\n",
      "  _warn_prf(average, modifier, f\"{metric.capitalize()} is\", len(result))\n",
      "/home/dasec-notebook/Thesis/skin_tone_estimation/.conda/lib/python3.10/site-packages/sklearn/metrics/_classification.py:1531: UndefinedMetricWarning: Precision is ill-defined and being set to 0.0 in labels with no predicted samples. Use `zero_division` parameter to control this behavior.\n",
      "  _warn_prf(average, modifier, f\"{metric.capitalize()} is\", len(result))\n",
      "/home/dasec-notebook/Thesis/skin_tone_estimation/.conda/lib/python3.10/site-packages/sklearn/metrics/_classification.py:1531: UndefinedMetricWarning: Precision is ill-defined and being set to 0.0 in labels with no predicted samples. Use `zero_division` parameter to control this behavior.\n",
      "  _warn_prf(average, modifier, f\"{metric.capitalize()} is\", len(result))\n",
      "/home/dasec-notebook/Thesis/skin_tone_estimation/.conda/lib/python3.10/site-packages/sklearn/metrics/_classification.py:1531: UndefinedMetricWarning: Precision is ill-defined and being set to 0.0 in labels with no predicted samples. Use `zero_division` parameter to control this behavior.\n",
      "  _warn_prf(average, modifier, f\"{metric.capitalize()} is\", len(result))\n",
      "/home/dasec-notebook/Thesis/skin_tone_estimation/.conda/lib/python3.10/site-packages/sklearn/metrics/_classification.py:1531: UndefinedMetricWarning: Precision is ill-defined and being set to 0.0 in labels with no predicted samples. Use `zero_division` parameter to control this behavior.\n",
      "  _warn_prf(average, modifier, f\"{metric.capitalize()} is\", len(result))\n",
      "/home/dasec-notebook/Thesis/skin_tone_estimation/.conda/lib/python3.10/site-packages/sklearn/metrics/_classification.py:1531: UndefinedMetricWarning: Precision is ill-defined and being set to 0.0 in labels with no predicted samples. Use `zero_division` parameter to control this behavior.\n",
      "  _warn_prf(average, modifier, f\"{metric.capitalize()} is\", len(result))\n",
      "/home/dasec-notebook/Thesis/skin_tone_estimation/.conda/lib/python3.10/site-packages/sklearn/metrics/_classification.py:1531: UndefinedMetricWarning: Precision is ill-defined and being set to 0.0 in labels with no predicted samples. Use `zero_division` parameter to control this behavior.\n",
      "  _warn_prf(average, modifier, f\"{metric.capitalize()} is\", len(result))\n",
      "/home/dasec-notebook/Thesis/skin_tone_estimation/.conda/lib/python3.10/site-packages/sklearn/metrics/_classification.py:1531: UndefinedMetricWarning: Precision is ill-defined and being set to 0.0 in labels with no predicted samples. Use `zero_division` parameter to control this behavior.\n",
      "  _warn_prf(average, modifier, f\"{metric.capitalize()} is\", len(result))\n",
      "/home/dasec-notebook/Thesis/skin_tone_estimation/.conda/lib/python3.10/site-packages/sklearn/metrics/_classification.py:1531: UndefinedMetricWarning: Precision is ill-defined and being set to 0.0 in labels with no predicted samples. Use `zero_division` parameter to control this behavior.\n",
      "  _warn_prf(average, modifier, f\"{metric.capitalize()} is\", len(result))\n"
     ]
    }
   ],
   "source": [
    "accuracy_log_reg = accuracy_score(y_test, y_pred_clf_LogisticRegression)\n",
    "report_log_reg = classification_report(y_test, y_pred_clf_LogisticRegression)\n",
    "multiclass_classification_utils.save_results(output_file, \"Logistic Regression\", accuracy_log_reg, report_log_reg)\n",
    "\n",
    "# Random Forest Classifier\n",
    "accuracy_rf = accuracy_score(y_test, y_pred_RandomForestClassifier)\n",
    "report_rf = classification_report(y_test, y_pred_RandomForestClassifier)\n",
    "multiclass_classification_utils.save_results(output_file, \"Random Forest Classifier\", accuracy_rf, report_rf)\n",
    "\n",
    "# SVC\n",
    "accuracy_svc = accuracy_score(y_test, y_pred_SVC)\n",
    "report_svc = classification_report(y_test, y_pred_SVC)\n",
    "multiclass_classification_utils.save_results(output_file, \"Support Vector Classifier (SVC)\", accuracy_svc, report_svc)"
   ]
  },
  {
   "cell_type": "code",
   "execution_count": null,
   "metadata": {},
   "outputs": [],
   "source": []
  }
 ],
 "metadata": {
  "kernelspec": {
   "display_name": "Python 3",
   "language": "python",
   "name": "python3"
  },
  "language_info": {
   "codemirror_mode": {
    "name": "ipython",
    "version": 3
   },
   "file_extension": ".py",
   "mimetype": "text/x-python",
   "name": "python",
   "nbconvert_exporter": "python",
   "pygments_lexer": "ipython3",
   "version": "3.10.15"
  }
 },
 "nbformat": 4,
 "nbformat_minor": 2
}
