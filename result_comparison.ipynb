{
 "cells": [
  {
   "cell_type": "code",
   "execution_count": 1,
   "metadata": {},
   "outputs": [],
   "source": [
    "import sys\n",
    "sys.path.append('../')\n",
    "\n",
    "\n",
    "from utils import result_comparison_utils\n",
    "\n",
    "%load_ext autoreload\n",
    "%autoreload 2\n"
   ]
  },
  {
   "cell_type": "markdown",
   "metadata": {},
   "source": [
    "Classification results comparison"
   ]
  },
  {
   "cell_type": "code",
   "execution_count": null,
   "metadata": {},
   "outputs": [],
   "source": [
    "# List of directories to process\n",
    "directories = [\n",
    "    \"/home/dasec-notebook/Thesis/skin_tone_estimation/multiclass_classification/results/results_v1.1\",\n",
    "    \"/home/dasec-notebook/Thesis/skin_tone_estimation/multiclass_classification/results/results_v1.2\",\n",
    "    \"/home/dasec-notebook/Thesis/skin_tone_estimation/multiclass_classification/results/results_v1.3\",\n",
    "    \"/home/dasec-notebook/Thesis/skin_tone_estimation/multiclass_classification/results/results_v1.4\",\n",
    "    \"/home/dasec-notebook/Thesis/skin_tone_estimation/multiclass_classification/results/results_v1.5\",\n",
    "    \"/home/dasec-notebook/Thesis/skin_tone_estimation/multiclass_classification/results/results_v1.6\",\n",
    "    \"/home/dasec-notebook/Thesis/skin_tone_estimation/multiclass_classification/results/results_v1.7\",\n",
    "    \"/home/dasec-notebook/Thesis/skin_tone_estimation/multiclass_classification/results/results_v1.8\",\n",
    "    \"/home/dasec-notebook/Thesis/skin_tone_estimation/multiclass_classification/results/results_v1.9\",\n",
    "    \"/home/dasec-notebook/Thesis/skin_tone_estimation/multiclass_classification/results/results_v1.10\",\n",
    "    \"/home/dasec-notebook/Thesis/skin_tone_estimation/multiclass_classification/results/results_v1.11\",\n",
    "]\n",
    "\n",
    "# Extract and print the comparison DataFrame\n",
    "comparison_df = result_comparison_utils.extract_model_summaries(directories)\n",
    "\n",
    "# Save the comparison DataFrame to a CSV file\n",
    "comparison_df.to_csv(\"results_comparison/classification_comparison.csv\")"
   ]
  },
  {
   "cell_type": "markdown",
   "metadata": {},
   "source": [
    "Regression results comparison"
   ]
  },
  {
   "cell_type": "code",
   "execution_count": null,
   "metadata": {},
   "outputs": [],
   "source": [
    "directories = [\n",
    "    \"/home/dasec-notebook/Thesis/skin_tone_estimation/multiclass_classification/results/results_v2.0\",\n",
    "    \"/home/dasec-notebook/Thesis/skin_tone_estimation/multiclass_classification/results/results_v2.1\",\n",
    "    \"/home/dasec-notebook/Thesis/skin_tone_estimation/multiclass_classification/results/results_v2.2\",\n",
    "    \"/home/dasec-notebook/Thesis/skin_tone_estimation/multiclass_classification/results/results_v2.3\",\n",
    "    \"/home/dasec-notebook/Thesis/skin_tone_estimation/multiclass_classification/results/results_v2.4\",\n",
    "    \"/home/dasec-notebook/Thesis/skin_tone_estimation/multiclass_classification/results/results_v2.5\"\n",
    "    \"/home/dasec-notebook/Thesis/skin_tone_estimation/multiclass_classification/results/results_v2.6\",\n",
    "    \"/home/dasec-notebook/Thesis/skin_tone_estimation/multiclass_classification/results/results_v2.7\",\n",
    "]\n",
    "\n",
    "comparison_df = result_comparison_utils.extract_model_summaries(directories)\n",
    "\n",
    "# Print the comparison dataframe\n",
    "# save\n",
    "comparison_df.to_csv(\"results_comparison/regression_comparison.csv\")"
   ]
  },
  {
   "cell_type": "markdown",
   "metadata": {},
   "source": [
    "Deep learning results comparison"
   ]
  },
  {
   "cell_type": "code",
   "execution_count": 3,
   "metadata": {},
   "outputs": [],
   "source": [
    "directories = [\n",
    "    \"/home/dasec-notebook/Thesis/skin_tone_estimation/multiclass_regression/results/results_v3.1\",\n",
    "    \"/home/dasec-notebook/Thesis/skin_tone_estimation/multiclass_regression/results/results_v3.2\",\n",
    "    \"/home/dasec-notebook/Thesis/skin_tone_estimation/multiclass_regression/results/results_v3.3\",\n",
    "    \"/home/dasec-notebook/Thesis/skin_tone_estimation/multiclass_regression/results/results_v3.4\",\n",
    "    \"/home/dasec-notebook/Thesis/skin_tone_estimation/multiclass_regression/results/results_v3.5\",\n",
    "    \"/home/dasec-notebook/Thesis/skin_tone_estimation/multiclass_regression/results/results_v3.6\",\n",
    "    \"/home/dasec-notebook/Thesis/skin_tone_estimation/multiclass_regression/results/results_v3.7\",\n",
    "    \"/home/dasec-notebook/Thesis/skin_tone_estimation/multiclass_regression/results/results_v3.8\",\n",
    "    \"/home/dasec-notebook/Thesis/skin_tone_estimation/multiclass_regression/results/results_v3.9\",\n",
    "    \"/home/dasec-notebook/Thesis/skin_tone_estimation/multiclass_regression/results/results_v3.10\",\n",
    "    \"/home/dasec-notebook/Thesis/skin_tone_estimation/multiclass_regression/results/results_v3.11\",\n",
    "]\n",
    "\n",
    "comparison_df = result_comparison_utils.compare_metrics_across_folders(directories)\n",
    "\n",
    "# Print the comparison dataframe\n",
    "# save\n",
    "comparison_df.to_csv(\"results_comparison/deep_learning_comparison.csv\")"
   ]
  },
  {
   "cell_type": "code",
   "execution_count": null,
   "metadata": {},
   "outputs": [],
   "source": []
  }
 ],
 "metadata": {
  "kernelspec": {
   "display_name": "Python 3",
   "language": "python",
   "name": "python3"
  },
  "language_info": {
   "codemirror_mode": {
    "name": "ipython",
    "version": 3
   },
   "file_extension": ".py",
   "mimetype": "text/x-python",
   "name": "python",
   "nbconvert_exporter": "python",
   "pygments_lexer": "ipython3",
   "version": "3.10.15"
  }
 },
 "nbformat": 4,
 "nbformat_minor": 2
}
