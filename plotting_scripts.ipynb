{
 "cells": [
  {
   "cell_type": "markdown",
   "metadata": {},
   "source": [
    "# The following scrips are use for plotting and visualizing data"
   ]
  },
  {
   "cell_type": "code",
   "execution_count": null,
   "metadata": {},
   "outputs": [],
   "source": [
    "import os\n",
    "import random\n",
    "import cv2\n",
    "import matplotlib.pyplot as plt\n",
    "\n",
    "# Define the root directories\n",
    "root_dirs = [\n",
    "    \"/home/dasec-notebook/Thesis/Datasets/mst-e_data/mst-e_data_portrait\",  # Replace with your root directory paths\n",
    "    \"/home/dasec-notebook/Thesis/Datasets/mst-e_data/mst-e_data_portrait_illuminant_correction/exposure_correction\",\n",
    "    \"/home/dasec-notebook/Thesis/Datasets/mst-e_data/mst-e_data_portrait_illuminant_correction/color_correction\",\n",
    "    \"/home/dasec-notebook/Thesis/Datasets/mst-e_data/mst-e_data_portrait_illuminant_correction/exposure_color_correction\",\n",
    "    \"/home/dasec-notebook/Thesis/Datasets/mst-e_data/CSEC\",\n",
    "]\n",
    "\n",
    "\n",
    "# Function to get all image paths from a folder of folders structure\n",
    "def get_all_image_paths(root_dir):\n",
    "    image_paths = []\n",
    "    for subdir, _, files in os.walk(root_dir):\n",
    "        for file in files:\n",
    "            if file.lower().endswith(\n",
    "                (\".jpg\", \".jpeg\", \".png\", \".bmp\", \".tiff\", \".webp\", \".JPG\")\n",
    "            ):\n",
    "                image_paths.append(os.path.join(subdir, file))\n",
    "    return sorted(image_paths)\n",
    "\n",
    "\n",
    "# Get all image paths from the first root directory (used for reference)\n",
    "reference_image_paths = get_all_image_paths(root_dirs[0])\n",
    "\n",
    "# Select 15 random images from the reference directory\n",
    "random_images = random.sample(reference_image_paths, 15)\n",
    "\n",
    "\n",
    "print(random_images)"
   ]
  },
  {
   "cell_type": "code",
   "execution_count": null,
   "metadata": {},
   "outputs": [],
   "source": [
    "# Plot the selected images for each reference image\n",
    "for i, ref_image_path in enumerate(random_images):\n",
    "    image_name = os.path.basename(ref_image_path)\n",
    "\n",
    "    fig, axes = plt.subplots(1, len(root_dirs), figsize=(20, 5))\n",
    "    for j, root_dir in enumerate(root_dirs):\n",
    "        current_image_path = os.path.join(root_dir, *ref_image_path.split(os.sep)[-2:])\n",
    "\n",
    "        # Read and process the image\n",
    "        image = cv2.imread(current_image_path)\n",
    "        if image is None:\n",
    "            raise ValueError(f\"Image not found at {current_image_path}\")\n",
    "            continue\n",
    "\n",
    "        image = cv2.cvtColor(image, cv2.COLOR_BGR2RGB)  # Convert to RGB for Matplotlib\n",
    "\n",
    "        # Add the image to the subplot\n",
    "        axes[j].imshow(image)\n",
    "        axes[j].axis(\"off\")  # Turn off axis lines\n",
    "\n",
    "        image_title = os.path.basename(root_dir)\n",
    "        axes[j].set_title(image_title, fontsize=10)\n",
    "\n",
    "    fig.suptitle(image_name, fontsize=14)\n",
    "\n",
    "    plt.tight_layout()\n",
    "    plt.show()"
   ]
  },
  {
   "cell_type": "markdown",
   "metadata": {},
   "source": []
  }
 ],
 "metadata": {
  "kernelspec": {
   "display_name": "Python 3",
   "language": "python",
   "name": "python3"
  },
  "language_info": {
   "codemirror_mode": {
    "name": "ipython",
    "version": 3
   },
   "file_extension": ".py",
   "mimetype": "text/x-python",
   "name": "python",
   "nbconvert_exporter": "python",
   "pygments_lexer": "ipython3",
   "version": "3.10.15"
  }
 },
 "nbformat": 4,
 "nbformat_minor": 2
}
